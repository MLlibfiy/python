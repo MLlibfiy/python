{
 "cells": [
  {
   "cell_type": "code",
   "execution_count": 1,
   "metadata": {
    "collapsed": true
   },
   "outputs": [
    {
     "name": "stdout",
     "output_type": "stream",
     "text": [
      "0    1\n1    2\n2    3\n3    4\ndtype: int64\na    1\nb    2\nc    3\nd    4\ndtype: int64\n1    1\n2    2\n3    3\n4    4\ndtype: int64\n"
     ]
    }
   ],
   "source": [
    "import pandas as pd\n",
    "print(pd.Series([1, 2, 3, 4]))\n",
    "s1 = pd.Series([1, 2, 3, 4], index=list(\"abcd\"))\n",
    "print(s1)\n",
    "s1.index=list(\"1234\")\n",
    "print(s1)"
   ]
  },
  {
   "cell_type": "code",
   "execution_count": 7,
   "metadata": {},
   "outputs": [
    {
     "data": {
      "text/plain": [
       "array([1, 2, 3, 4], dtype=int64)"
      ]
     },
     "execution_count": 7,
     "metadata": {},
     "output_type": "execute_result"
    }
   ],
   "source": [
    "s1.get_values()#获取所有value\n"
   ]
  },
  {
   "cell_type": "code",
   "execution_count": 10,
   "metadata": {},
   "outputs": [
    {
     "data": {
      "text/plain": [
       "1    a\n2    b\n3    c\ndtype: object"
      ]
     },
     "execution_count": 10,
     "metadata": {},
     "output_type": "execute_result"
    }
   ],
   "source": [
    "#通过字典创建series\n",
    "\n",
    "pd.Series({1: \"a\", 2: \"b\", 3: \"c\"})\n"
   ]
  },
  {
   "cell_type": "code",
   "execution_count": 18,
   "metadata": {},
   "outputs": [
    {
     "name": "stdout",
     "output_type": "stream",
     "text": [
      "  name  age\n0   张三   12\n1   李四   23\n2   王五   43\n<class 'pandas.core.frame.DataFrame'>\n"
     ]
    }
   ],
   "source": [
    "#通过字典创建dataframe\n",
    "\n",
    "data = {\"name\": [\"张三\", \"李四\", \"王五\"], \"age\": [12, 23, 43]}\n",
    "\n",
    "frame = pd.DataFrame(data)\n",
    "print(frame)\n",
    "print(type(frame))"
   ]
  },
  {
   "cell_type": "code",
   "execution_count": 22,
   "metadata": {},
   "outputs": [
    {
     "name": "stdout",
     "output_type": "stream",
     "text": [
      "0    张三\n1    李四\n2    王五\nName: name, dtype: object\n<class 'pandas.core.series.Series'>\n"
     ]
    }
   ],
   "source": [
    "#DataFrame 索引\n",
    "name_ = frame['name']\n",
    "print(name_)\n",
    "print(type(name_))"
   ]
  },
  {
   "cell_type": "code",
   "execution_count": 33,
   "metadata": {},
   "outputs": [
    {
     "name": "stdout",
     "output_type": "stream",
     "text": [
      "Empty DataFrame\nColumns: []\nIndex: [0, 1, 2]\n  name  age\n0   张三   12\n1   李四   23\n2   王五   43\n"
     ]
    }
   ],
   "source": [
    "#drop 返回一个新的dataframe 不会修改之前的df\n",
    "dropdf = frame.drop([\"name\",\"age\"],axis=1)\n",
    "print(dropdf)\n",
    "print(frame)"
   ]
  },
  {
   "cell_type": "code",
   "execution_count": 45,
   "metadata": {},
   "outputs": [
    {
     "name": "stdout",
     "output_type": "stream",
     "text": [
      "  name  age\n1   李四   23\n2   王五   43\n   age name\n0   12   张三\n1   23   李四\n2   43   王五\n"
     ]
    }
   ],
   "source": [
    "#切片\n",
    "frame[\"age\"]>20\n",
    "age_ = frame[frame[\"age\"] > 20]\n",
    "print(age_)\n",
    "\n",
    "print(frame[[\"age\",'name']])#获取多列"
   ]
  },
  {
   "cell_type": "code",
   "execution_count": 61,
   "metadata": {},
   "outputs": [
    {
     "name": "stdout",
     "output_type": "stream",
     "text": [
      "name    3\nage     3\ndtype: int64\n             age\ncount   3.000000\nmean   26.000000\nstd    15.716234\nmin    12.000000\n25%    17.500000\n50%    23.000000\n75%    33.000000\nmax    43.000000\nage    15.716234\ndtype: float64\nage    247.0\ndtype: float64\n0     NaN\n1    11.0\n2    20.0\nName: age, dtype: float64\n"
     ]
    }
   ],
   "source": [
    "#汇总计算和铜价描述\n",
    "print(frame.count(axis=0))\n",
    "print(frame.describe())\n",
    "print(frame.std())\n",
    "print(frame.var())\n",
    "print(frame[\"age\"].diff())"
   ]
  },
  {
   "cell_type": "code",
   "execution_count": 3,
   "metadata": {},
   "outputs": [
    {
     "name": "stdout",
     "output_type": "stream",
     "text": [
      "             id name  age gender clazz\n0    1500100001  施笑槐   22      女  文科六班\n1    1500100002  吕金鹏   24      男  文科六班\n2    1500100003  单乐蕊   22      女  理科六班\n3    1500100004  葛德曜   24      男  理科三班\n4    1500100005  宣谷芹   22      女  理科五班\n5    1500100006  边昂雄   21      男  理科二班\n6    1500100007  尚孤风   23      女  文科六班\n7    1500100008  符半双   22      女  理科六班\n8    1500100009  沈德昌   21      男  理科一班\n9    1500100010  羿彦昌   23      男  理科六班\n10   1500100011  宰运华   21      男  理科三班\n11   1500100012  梁易槐   21      女  理科一班\n12   1500100013  逯君昊   24      男  文科二班\n13   1500100014  羿旭炎   23      男  理科五班\n14   1500100015  宦怀绿   21      女  理科一班\n15   1500100016  潘访烟   23      女  文科一班\n16   1500100017  高芷天   21      女  理科五班\n17   1500100018  骆怜雪   21      女  文科六班\n18   1500100019  娄曦之   24      男  理科三班\n19   1500100020  杭振凯   23      男  理科四班\n20   1500100021  连鸿晖   22      男  理科六班\n21   1500100022  薄运珧   23      男  文科四班\n22   1500100023  东鸿畴   23      男  理科二班\n23   1500100024  湛慕卉   22      女  文科二班\n24   1500100025  翁飞昂   22      男  文科四班\n25   1500100026  向鹏池   21      男  理科四班\n26   1500100027  路辰锟   21      男  文科四班\n27   1500100028  幸浩邈   24      男  理科五班\n28   1500100029  滕旭炎   21      男  理科二班\n29   1500100030  姚依丝   21      女  理科六班\n..          ...  ...  ...    ...   ...\n970  1500100971  郝曼凡   24      女  文科五班\n971  1500100972  王昂杰   23      男  理科二班\n972  1500100973  钮幼南   23      女  文科一班\n973  1500100974  容鸿晖   21      男  文科五班\n974  1500100975  蓬曜瑞   22      男  理科三班\n975  1500100976  卓芷梦   21      女  文科六班\n976  1500100977  邹飞珍   23      女  文科四班\n977  1500100978  郜昆卉   21      男  文科五班\n978  1500100979  乐曜灿   24      男  文科六班\n979  1500100980  霍谷槐   22      女  理科一班\n980  1500100981  经鹏涛   23      男  文科六班\n981  1500100982  钱若芹   21      女  理科二班\n982  1500100983  左傲薇   22      女  理科四班\n983  1500100984  殷景逸   23      男  理科二班\n984  1500100985  申飞珍   21      女  文科一班\n985  1500100986  左天曼   22      女  文科一班\n986  1500100987  双昆杰   24      男  文科四班\n987  1500100988  余鸿云   22      男  文科六班\n988  1500100989  柏盼香   24      女  理科六班\n989  1500100990  扈旭鹏   23      男  理科三班\n990  1500100991  冉飞昂   22      男  理科一班\n991  1500100992  莫运盛   24      男  理科六班\n992  1500100993  衡从蕾   21      女  理科二班\n993  1500100994  相凌青   24      女  理科四班\n994  1500100995  寿芷卉   24      女  理科五班\n995  1500100996  厉运凡   24      男  文科三班\n996  1500100997  陶敬曦   21      男  理科六班\n997  1500100998  容昆宇   22      男  理科四班\n998  1500100999  钟绮晴   23      女  文科五班\n999  1500101000  符瑞渊   23      男  理科六班\n\n[1000 rows x 5 columns]\n"
     ]
    }
   ],
   "source": [
    "data = pd.read_table(\"data/students.txt\",sep=\",\")#相对项目的路径\n",
    "print(data)"
   ]
  },
  {
   "cell_type": "code",
   "execution_count": 5,
   "metadata": {},
   "outputs": [
    {
     "name": "stdout",
     "output_type": "stream",
     "text": [
      "      student_id  cource_id  score\n0     1500100001    1000001     98\n1     1500100001    1000002      5\n2     1500100001    1000003    137\n3     1500100001    1000004     29\n4     1500100001    1000005     85\n5     1500100001    1000006     52\n6     1500100002    1000001    139\n7     1500100002    1000002    102\n8     1500100002    1000003     44\n9     1500100002    1000004     18\n10    1500100002    1000005     46\n11    1500100002    1000006     91\n12    1500100003    1000001     48\n13    1500100003    1000002    132\n14    1500100003    1000003     41\n15    1500100003    1000007     32\n16    1500100003    1000008      7\n17    1500100003    1000009     99\n18    1500100004    1000001    147\n19    1500100004    1000002     69\n20    1500100004    1000003     37\n21    1500100004    1000007     87\n22    1500100004    1000008     21\n23    1500100004    1000009     60\n24    1500100005    1000001    105\n25    1500100005    1000002    105\n26    1500100005    1000003     30\n27    1500100005    1000007     68\n28    1500100005    1000008     38\n29    1500100005    1000009     49\n...          ...        ...    ...\n5970  1500100996    1000001     43\n5971  1500100996    1000002     66\n5972  1500100996    1000003    135\n5973  1500100996    1000004     85\n5974  1500100996    1000005      9\n5975  1500100996    1000006     17\n5976  1500100997    1000001    113\n5977  1500100997    1000002     41\n5978  1500100997    1000003     44\n5979  1500100997    1000007     29\n5980  1500100997    1000008     23\n5981  1500100997    1000009     43\n5982  1500100998    1000001     37\n5983  1500100998    1000002     57\n5984  1500100998    1000003    106\n5985  1500100998    1000007     91\n5986  1500100998    1000008      9\n5987  1500100998    1000009     98\n5988  1500100999    1000001    115\n5989  1500100999    1000002     55\n5990  1500100999    1000003    102\n5991  1500100999    1000004     48\n5992  1500100999    1000005     41\n5993  1500100999    1000006     10\n5994  1500101000    1000001    100\n5995  1500101000    1000002     78\n5996  1500101000    1000003     81\n5997  1500101000    1000007      5\n5998  1500101000    1000008     87\n5999  1500101000    1000009     28\n\n[6000 rows x 3 columns]\n"
     ]
    }
   ],
   "source": [
    "scores = pd.read_csv(\"data/score.txt\", header=None, names=[\"student_id\", \"cource_id\", \"score\"])\n",
    "print(scores)"
   ]
  },
  {
   "cell_type": "code",
   "execution_count": null,
   "metadata": {},
   "outputs": [],
   "source": []
  }
 ],
 "metadata": {
  "kernelspec": {
   "display_name": "Python 2",
   "language": "python",
   "name": "python2"
  },
  "language_info": {
   "codemirror_mode": {
    "name": "ipython",
    "version": 2
   },
   "file_extension": ".py",
   "mimetype": "text/x-python",
   "name": "python",
   "nbconvert_exporter": "python",
   "pygments_lexer": "ipython2",
   "version": "2.7.6"
  }
 },
 "nbformat": 4,
 "nbformat_minor": 0
}
